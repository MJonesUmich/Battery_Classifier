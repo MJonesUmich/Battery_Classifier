{
 "cells": [
  {
   "cell_type": "code",
   "execution_count": null,
   "id": "e80ba499",
   "metadata": {
    "vscode": {
     "languageId": "plaintext"
    }
   },
   "outputs": [],
   "source": [
    "Nothing here yet."
   ]
  }
 ],
 "metadata": {
  "language_info": {
   "name": "python"
  }
 },
 "nbformat": 4,
 "nbformat_minor": 5
}
